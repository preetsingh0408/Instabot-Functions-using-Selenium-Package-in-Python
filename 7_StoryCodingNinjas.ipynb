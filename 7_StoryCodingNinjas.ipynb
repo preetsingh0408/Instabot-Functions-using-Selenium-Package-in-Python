{
 "cells": [
  {
   "cell_type": "markdown",
   "metadata": {},
   "source": [
    "# Check the story of ‘coding.ninjas’. Consider the following Scenarios and print error messages accordingly -\n"
   ]
  },
  {
   "cell_type": "markdown",
   "metadata": {},
   "source": [
    "1) If You have already seen the story.\n",
    "2) Or The user has no story.\n",
    "3) Or View the story if not yet seen."
   ]
  },
  {
   "cell_type": "code",
   "execution_count": null,
   "metadata": {},
   "outputs": [],
   "source": [
    "from selenium import webdriver\n",
    "from bs4 import BeautifulSoup\n",
    "from selenium.webdriver.support import expected_conditions as EC\n",
    "import time\n",
    "from selenium.webdriver.support.ui import WebDriverWait\n",
    "from selenium.webdriver.common.by import By\n",
    "\n",
    "\n",
    "#Navigate to Instagram URL\n",
    "Instagram_url = \"https://www.instagram.com\"\n",
    "driver = webdriver.Chrome(executable_path=\"C:/Users/preet_s/Desktop/chromedriver.exe\")\n",
    "driver.get(Instagram_url)\n",
    "\n",
    "#Waiting for page to load completely\n",
    "WebDriverWait(driver, 10).until(EC.presence_of_element_located((By.CLASS_NAME, 'izU2O')))\n",
    "\n",
    "#Navigating to login page by clicking login button\n",
    "login_class = driver.find_element_by_xpath('//*[@id=\"react-root\"]/section/main/article/div[2]/div[2]/p/a')\n",
    "login_class.click()\n",
    "\n",
    "##Waiting for login page to load completely\n",
    "WebDriverWait(driver, 10).until(EC.presence_of_element_located((By.CLASS_NAME, 'agXmL')))\n",
    "\n",
    "#Locating Username tag and entering username\n",
    "WebDriverWait(driver, 10).until(EC.presence_of_element_located((By.NAME, 'username')))\n",
    "username_textbox = driver.find_element_by_name(\"username\")\n",
    "username_textbox.send_keys(\"SAMPLE USERNAME\")\n",
    "\n",
    "#Locating Password tag and entering password\n",
    "password_textbox = driver.find_element_by_name(\"password\")\n",
    "password_textbox.send_keys(\"SAMPLE PASSWORD\")\n",
    "\n",
    "#Locating Login button and clicking it to login into my instagram account\n",
    "Login_submit = driver.find_element_by_xpath('//*[@id=\"react-root\"]/section/main/div/article/div/div[1]/div/form/div[4]/button/div')\n",
    "Login_submit.click()\n",
    "\n",
    "#Waiting for loading the instagram account\n",
    "WebDriverWait(driver, 10).until(EC.presence_of_element_located((By.XPATH, '//*[@id=\"react-root\"]/section/nav/div[2]/div/div')))\n",
    "\n",
    "#If you get popup for turning on Notification then click \"Not Now\"\n",
    "try:\n",
    "    popup_notification = driver.find_element_by_class_name(\"piCib\")\n",
    "    if popup_notification.is_displayed():\n",
    "        not_now_button = driver.find_element_by_xpath(\"/html/body/div[3]/div/div/div[3]/button[2]\")\n",
    "        not_now_button.click()\n",
    "        time.sleep(3)\n",
    "except:\n",
    "    pass\n",
    "\n",
    "#waiting element to wait for page to laod completely\n",
    "waiting_element = WebDriverWait(driver, 10).until(EC.presence_of_element_located((By.XPATH, '//input[@class = \"XTCLo x3qfX \"]')))\n",
    "handle = 1\n",
    "\n",
    "#variable of URL of coding ninjas profile \n",
    "Profile_url = \"window.open(url = 'https://www.instagram.com/coding.ninjas');\"\n",
    "\n",
    "#Navigating to Coding Ninjas profile on Instagram\n",
    "driver.execute_script(Profile_url);\n",
    "windows = driver.window_handles\n",
    "driver.switch_to.window(windows[handle])\n",
    "\n",
    "#Waiting for page to load completely\n",
    "waiting_element = WebDriverWait(driver, 10).until(EC.presence_of_element_located((By.XPATH, '//*[@id=\"react-root\"]/section/main/div/header/section/div[2]')))\n",
    "\n",
    "#Applying Logic\n",
    "div_elem = driver.find_element_by_xpath('//*[@id=\"react-root\"]/section/main/div/header/div/div')\n",
    "div_class = div_elem.get_attribute(\"class\")\n",
    "if div_class != 'RR-M- ':\n",
    "    story=driver.find_element_by_class_name(\"CfWVH\")\n",
    "    if int(story.get_attribute(\"height\"))==166:\n",
    "        parent_div = story.parent\n",
    "        print(\"You have already seen the story\")\n",
    "    else:\n",
    "        driver.find_element_by_class_name(\"_6q-tv\").click()    \n",
    "else:\n",
    "    print(\"No story posted\")"
   ]
  }
 ],
 "metadata": {
  "kernelspec": {
   "display_name": "Python 3",
   "language": "python",
   "name": "python3"
  },
  "language_info": {
   "codemirror_mode": {
    "name": "ipython",
    "version": 3
   },
   "file_extension": ".py",
   "mimetype": "text/x-python",
   "name": "python",
   "nbconvert_exporter": "python",
   "pygments_lexer": "ipython3",
   "version": "3.7.1"
  }
 },
 "nbformat": 4,
 "nbformat_minor": 2
}
